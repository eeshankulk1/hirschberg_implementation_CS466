{
 "cells": [
  {
   "cell_type": "code",
   "execution_count": 6,
   "metadata": {},
   "outputs": [],
   "source": [
    "import numpy as np\n",
    "import matplotlib.pyplot as plt\n",
    "import time\n",
    "import seaborn as sns\n",
    "from hirschberg_algorithm import NWScore, hirschberg_alignment, needleman_wunsch\n",
    "from brute_force import brute_force_alignment\n",
    "from naive_recursive import recursive_alignment\n",
    "import time\n",
    "import sys\n"
   ]
  },
  {
   "cell_type": "code",
   "execution_count": 16,
   "metadata": {},
   "outputs": [],
   "source": [
    "# Input sequences\n",
    "X = \"GATTACAA\"\n",
    "Y = \"GCATGCUG\"\n"
   ]
  },
  {
   "cell_type": "code",
   "execution_count": 17,
   "metadata": {},
   "outputs": [
    {
     "name": "stdout",
     "output_type": "stream",
     "text": [
      "\n",
      "Performance:\n",
      "Brute Force - Time: 2.5395s, Peak Memory: 19.02 KB\n",
      "Naive Recursive - Time: 0.5602s, Peak Memory: 3.58 KB\n",
      "Hirschberg - Time: 0.0003s, Peak Memory: 1.52 KB\n"
     ]
    }
   ],
   "source": [
    "import time\n",
    "import sys\n",
    "import tracemalloc\n",
    "\n",
    "# Measure runtime and memory usage\n",
    "def measure_performance(func, *args):\n",
    "    # Start tracing memory\n",
    "    tracemalloc.start()\n",
    "    start_time = time.time()\n",
    "    \n",
    "    # Run the function\n",
    "    result = func(*args)\n",
    "    \n",
    "    end_time = time.time()\n",
    "    current, peak = tracemalloc.get_traced_memory()\n",
    "    tracemalloc.stop()\n",
    "    \n",
    "    # Compute runtime and peak memory\n",
    "    runtime = end_time - start_time\n",
    "    memory_peak = peak  # Peak memory usage during function execution\n",
    "    return runtime, memory_peak\n",
    "\n",
    "# Test and print results\n",
    "brute_time, brute_mem = measure_performance(brute_force_alignment, X, Y)\n",
    "naive_time, naive_mem = measure_performance(recursive_alignment, X, Y)\n",
    "hirsch_time, hirsch_mem = measure_performance(hirschberg_alignment, X, Y)\n",
    "\n",
    "print(\"\\nPerformance:\")\n",
    "print(f\"Brute Force - Time: {brute_time:.4f}s, Peak Memory: {brute_mem / 1024:.2f} KB\")\n",
    "print(f\"Naive Recursive - Time: {naive_time:.4f}s, Peak Memory: {naive_mem / 1024:.2f} KB\")\n",
    "print(f\"Hirschberg - Time: {hirsch_time:.4f}s, Peak Memory: {hirsch_mem / 1024:.2f} KB\")\n"
   ]
  }
 ],
 "metadata": {
  "kernelspec": {
   "display_name": "base",
   "language": "python",
   "name": "python3"
  },
  "language_info": {
   "codemirror_mode": {
    "name": "ipython",
    "version": 3
   },
   "file_extension": ".py",
   "mimetype": "text/x-python",
   "name": "python",
   "nbconvert_exporter": "python",
   "pygments_lexer": "ipython3",
   "version": "3.12.7"
  }
 },
 "nbformat": 4,
 "nbformat_minor": 2
}
